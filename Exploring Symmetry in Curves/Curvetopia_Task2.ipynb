{
  "nbformat": 4,
  "nbformat_minor": 0,
  "metadata": {
    "colab": {
      "provenance": []
    },
    "kernelspec": {
      "name": "python3",
      "display_name": "Python 3"
    },
    "language_info": {
      "name": "python"
    }
  },
  "cells": [
    {
      "cell_type": "markdown",
      "source": [
        "## Exploring Symmetry in Curves\n",
        "\n",
        "\n"
      ],
      "metadata": {
        "id": "xzmo2nqNZtlZ"
      }
    },
    {
      "cell_type": "code",
      "source": [
        "#Vertical Symmetry\n",
        "import cv2\n",
        "import numpy as np\n",
        "from google.colab.patches import cv2_imshow\n",
        "\n",
        "# Load the image\n",
        "img_path = 'square.png'\n",
        "img = cv2.imread(img_path)\n",
        "\n",
        "# Check if the img is loaded correctly\n",
        "if img is None:\n",
        "    print(f\"Error: Unable to read the image file {img_path}\")\n",
        "else:\n",
        "    # Convert the image to grayscale\n",
        "    gray = cv2.cvtColor(img, cv2.COLOR_BGR2GRAY)\n",
        "    flip_vertical = cv2.flip(gray, 1)\n",
        "\n",
        "    # Create a copy of the original image to visualize symmetry\n",
        "    img_symmetry = img.copy()\n",
        "\n",
        "    # Draw a vertical line down the center of the image\n",
        "    cv2.line(img_symmetry, (gray.shape[1]//2, 0), (gray.shape[1]//2, gray.shape[0]), (0, 0, 255), 2)\n",
        "\n",
        "    # Display the original image and the symmetry visualization\n",
        "    print(\"Original\")\n",
        "    cv2_imshow(img)  # Display the original image\n",
        "    print(\"Vertical Symmetry\")\n",
        "    cv2_imshow(img_symmetry)  # Display the image with the vertical symmetry line\n",
        "\n",
        "    # Wait for a key press and close all windows\n",
        "    cv2.waitKey(0)\n",
        "    cv2.destroyAllWindows()\n"
      ],
      "metadata": {
        "colab": {
          "base_uri": "https://localhost:8080/",
          "height": 502
        },
        "id": "A_hbkTKRFRtO",
        "outputId": "aca88dcb-8d13-4d91-dce5-622f6ebcbfd3"
      },
      "execution_count": 16,
      "outputs": [
        {
          "output_type": "stream",
          "name": "stdout",
          "text": [
            "Original\n"
          ]
        },
        {
          "output_type": "display_data",
          "data": {
            "text/plain": [
              "<PIL.Image.Image image mode=RGB size=225x225>"
            ],
            "image/png": "[encoded data removed]"
          },
          "metadata": {}
        },
        {
          "output_type": "stream",
          "name": "stdout",
          "text": [
            "Vertical Symmetry\n"
          ]
        },
        {
          "output_type": "display_data",
          "data": {
            "text/plain": [
              "<PIL.Image.Image image mode=RGB size=225x225>"
            ],
            "image/png": "[encoded data removed]"
          },
          "metadata": {}
        }
      ]
    },
    {
      "cell_type": "code",
      "source": [
        "#Horizontal Symmetry\n",
        "import cv2\n",
        "import numpy as np\n",
        "from google.colab.patches import cv2_imshow\n",
        "\n",
        "# Load the image\n",
        "img_path = 'square.png'\n",
        "img = cv2.imread(img_path)\n",
        "\n",
        "# Check if the img is loaded correctly\n",
        "if img is None:\n",
        "    print(f\"Error: Unable to read the image file {img_path}\")\n",
        "else:\n",
        "    # Convert the image to grayscale\n",
        "    gray = cv2.cvtColor(img, cv2.COLOR_BGR2GRAY)\n",
        "\n",
        "    # Create a copy of the original image to visualize symmetry\n",
        "    img_symmetry = img.copy()\n",
        "\n",
        "    # Draw a vertical line down the center of the image\n",
        "    cv2.line(img_symmetry, (0,gray.shape[0]//2), (gray.shape[1], gray.shape[0]//2), (255, 0, 255), 2)\n",
        "\n",
        "    # Display the original image and the symmetry visualization\n",
        "    print(\"Original\")\n",
        "    cv2_imshow(img)  # Display the original image\n",
        "    print(\"Horizontal Symmetry\")\n",
        "    cv2_imshow(img_symmetry)  # Display the image with the vertical symmetry line\n",
        "\n",
        "    # Wait for a key press and close all windows\n",
        "    cv2.waitKey(0)\n",
        "    cv2.destroyAllWindows()\n"
      ],
      "metadata": {
        "colab": {
          "base_uri": "https://localhost:8080/",
          "height": 502
        },
        "id": "EGwVcfbLOvnX",
        "outputId": "f3a96df3-1fb0-4a08-c49e-b27a291a7a36"
      },
      "execution_count": 17,
      "outputs": [
        {
          "output_type": "stream",
          "name": "stdout",
          "text": [
            "Original\n"
          ]
        },
        {
          "output_type": "display_data",
          "data": {
            "text/plain": [
              "<PIL.Image.Image image mode=RGB size=225x225>"
            ],
            "image/png": "[encoded data removed]"
          },
          "metadata": {}
        },
        {
          "output_type": "stream",
          "name": "stdout",
          "text": [
            "Horizontal Symmetry\n"
          ]
        },
        {
          "output_type": "display_data",
          "data": {
            "text/plain": [
              "<PIL.Image.Image image mode=RGB size=225x225>"
            ],
            "image/png": "[encoded data removed]"
          },
          "metadata": {}
        }
      ]
    },
    {
      "cell_type": "code",
      "source": [
        "# Diagonal Symmetry\n",
        "\n",
        "# Load the image\n",
        "img_path = 'square.png'\n",
        "img = cv2.imread(img_path)\n",
        "\n",
        "# Check if the img is loaded correctly\n",
        "if img is None:\n",
        "    print(f\"Error: Unable to read the image file {img_path}\")\n",
        "else:\n",
        "    # Convert the image to grayscale\n",
        "    gray = cv2.cvtColor(img, cv2.COLOR_BGR2GRAY)\n",
        "\n",
        "    # Create a copy of the original image to visualize symmetry\n",
        "    img_symmetry = img.copy()\n",
        "\n",
        "    # Draw a diagonal line from top-left to bottom-right\n",
        "    cv2.line(img_symmetry, (0, 0), (gray.shape[1], gray.shape[0]), (0, 255, 0), 2)\n",
        "\n",
        "    # Display the original image and the symmetry visualization\n",
        "    print(\"Original\")\n",
        "    cv2_imshow(img)  # Display the original image\n",
        "    print(\"Diagonal Symmetry\")\n",
        "    cv2_imshow(img_symmetry)  # Display the image with the diagonal symmetry line\n",
        "\n",
        "    # Wait for a key press and close all windows\n",
        "    cv2.waitKey(0)\n",
        "    cv2.destroyAllWindows()\n"
      ],
      "metadata": {
        "colab": {
          "base_uri": "https://localhost:8080/",
          "height": 502
        },
        "id": "M4CSMPnJXdH_",
        "outputId": "b56b7135-2661-42d7-adff-a6ce45493e32"
      },
      "execution_count": 18,
      "outputs": [
        {
          "output_type": "stream",
          "name": "stdout",
          "text": [
            "Original\n"
          ]
        },
        {
          "output_type": "display_data",
          "data": {
            "text/plain": [
              "<PIL.Image.Image image mode=RGB size=225x225>"
            ],
            "image/png": "[encoded data removed]"
          },
          "metadata": {}
        },
        {
          "output_type": "stream",
          "name": "stdout",
          "text": [
            "Diagonal Symmetry\n"
          ]
        },
        {
          "output_type": "display_data",
          "data": {
            "text/plain": [
              "<PIL.Image.Image image mode=RGB size=225x225>"
            ],
            "image/png": "[encoded data removed]"
          },
          "metadata": {}
        }
      ]
    }
  ]
}