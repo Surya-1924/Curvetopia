{
  "nbformat": 4,
  "nbformat_minor": 0,
  "metadata": {
    "colab": {
      "provenance": []
    },
    "kernelspec": {
      "name": "python3",
      "display_name": "Python 3"
    },
    "language_info": {
      "name": "python"
    }
  },
  "cells": [
    {
      "cell_type": "code",
      "execution_count": 2,
      "metadata": {
        "colab": {
          "base_uri": "https://localhost:8080/"
        },
        "id": "heUbJP-6EyTm",
        "outputId": "390dcb51-88e7-43a8-d62a-894b036216ab"
      },
      "outputs": [
        {
          "output_type": "stream",
          "name": "stdout",
          "text": [
            "Regularized shapes saved to regularized_output.png\n"
          ]
        }
      ],
      "source": [
        "#Regularizing Curves\n",
        "import cv2\n",
        "import numpy as np\n",
        "\n",
        "def regularize_shape(image_path, output_path):\n",
        "    # Load the image\n",
        "    image = cv2.imread(image_path)\n",
        "    gray = cv2.cvtColor(image, cv2.COLOR_BGR2GRAY)\n",
        "\n",
        "    # Apply edge detection\n",
        "    edges = cv2.Canny(gray, 50, 150, apertureSize=3)\n",
        "\n",
        "    # Find contours\n",
        "    contours, _ = cv2.findContours(edges, cv2.RETR_TREE, cv2.CHAIN_APPROX_SIMPLE)\n",
        "\n",
        "    # Create an empty image for drawing\n",
        "    result = np.zeros_like(image)\n",
        "\n",
        "    for contour in contours:\n",
        "        # Approximate the contour to a polygon\n",
        "        epsilon = 0.02 * cv2.arcLength(contour, True)\n",
        "        approx = cv2.approxPolyDP(contour, epsilon, True)\n",
        "\n",
        "        # Draw the approximated shape on the result image\n",
        "        if len(approx) == 3:\n",
        "            cv2.drawContours(result, [approx], 0, (0, 255, 0), 2)  # Triangle\n",
        "        elif len(approx) == 4:\n",
        "            cv2.drawContours(result, [approx], 0, (0, 0, 255), 2)  # Rectangle\n",
        "        elif len(approx) > 4:\n",
        "            cv2.drawContours(result, [approx], 0, (255, 0, 0), 2)  # Circle or Ellipse\n",
        "\n",
        "    # Save the result\n",
        "    cv2.imwrite(output_path, result)\n",
        "    print(f'Regularized shapes saved to {output_path}')\n",
        "\n",
        "# Example usage\n",
        "regularize_shape('doodle_input.webp', 'regularized_output.png')\n"
      ]
    },
    {
      "cell_type": "code",
      "source": [],
      "metadata": {
        "id": "A_hbkTKRFRtO"
      },
      "execution_count": null,
      "outputs": []
    }
  ]
}
